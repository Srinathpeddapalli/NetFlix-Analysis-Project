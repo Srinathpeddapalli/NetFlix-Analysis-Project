{
 "cells": [
  {
   "cell_type": "markdown",
   "id": "b943b34f",
   "metadata": {},
   "source": [
    "# Netflix Data Analysis \n",
    "\n",
    "Netflix is one of the most Most Popular streaming services in the world.\n",
    "In this project, we are going to analyse the  Netflix Data Analysis.\n",
    "\n",
    "## About the dataset\n",
    "\n",
    "The Dataset provides the Data/Information about Tv Shows/Movies released in Netflix Platform over a period of time.\n",
    "\n",
    "# Netflix Data\n",
    "\n",
    "- We have one file of raw data on Netflix Data with following columns:\n",
    "\n",
    "**- Show_id**: It shows the ID of the Records.\n",
    "\n",
    "**- Type**: Type defines Category whether it is TV show/Movie. \n",
    "\n",
    "**- Title**: Shows the Name of a Title.\n",
    "\n",
    "**- Director**: Name of Director \n",
    "\n",
    "**- Cast**: Name of a Person who acted in the Movie.\n",
    "\n",
    "**- Country**: Name of a country\n",
    "\n",
    "**- Date_Added**: Date added for a Particular Movie/TV show in Netflix.\n",
    "\n",
    "**- Release_year**: Year of Movie/TV show Released in Netflix Platform.\n",
    "\n",
    "**- Rating**: Netflix Rating given for a particular Movie/TV show.\n",
    "\n",
    "**- Duration**: Shows the Length of the Time duration.\n",
    "\n",
    "**- Listed_in**: It tells about what Genre of the film likie Comedy,Drama,Horror etc.\n",
    "\n",
    "**- Description**: It Tells about the story line of a  Movie/TV show.\n"
   ]
  },
  {
   "cell_type": "markdown",
   "id": "cb5d12be",
   "metadata": {},
   "source": [
    "# Meeting the Library Requirements\n",
    "\n",
    "In Jupyter Notebooks, you may encounter situations where you want to suppress warning messages that would normally be displayed. The warnings module in Python provides a way to control warning behavior in your code. By calling filterwarnings('ignore'), you instruct Python to ignore all warnings and not display them in the output.\n",
    "\n",
    "This can be useful in certain situations where you want to suppress warnings that might be irrelevant or distracting for your specific task. However, it's important to note that ignoring warnings globally can sometimes hide important information about potential issues or bugs in your code. It's generally recommended to use caution when suppressing warnings and consider whether it's necessary for your particular use case."
   ]
  },
  {
   "cell_type": "code",
   "execution_count": 1,
   "id": "82ae431f",
   "metadata": {},
   "outputs": [],
   "source": [
    "import warnings\n",
    "warnings.filterwarnings('ignore')"
   ]
  },
  {
   "cell_type": "markdown",
   "id": "a2cb8799",
   "metadata": {},
   "source": [
    "Run the following cell to install the required libraries. Let's break down the command and its components:\n",
    "\n",
    "  !: The exclamation mark (!) at the beginning of the line indicates that the command should be executed as a shell command,           rather than as a Python statement.\n",
    "  \n",
    "  pip3: pip3 is a package installer for Python 3, used to install Python packages from the Python Package Index (PyPI).\n",
    "     \n",
    "  -q: The -q flag stands for \"quiet\" and is used to suppress output or progress messages during the installation process. It makes the installation process less verbose.\n",
    "   \n",
    "  install: This keyword tells pip3 that you want to install packages.\n",
    "\n",
    "  numpy pandas matplotlib seaborn: These are the names of the packages you want to install."
   ]
  },
  {
   "cell_type": "code",
   "execution_count": 2,
   "id": "f919f941",
   "metadata": {},
   "outputs": [],
   "source": [
    "!pip3 -q install numpy pandas matplotlib seaborn"
   ]
  },
  {
   "cell_type": "markdown",
   "id": "7e8eafe7",
   "metadata": {},
   "source": [
    "### Importing the Libraries"
   ]
  },
  {
   "cell_type": "code",
   "execution_count": 3,
   "id": "5adecc7b",
   "metadata": {},
   "outputs": [],
   "source": [
    "import numpy as np\n",
    "import pandas as pd\n",
    "import matplotlib.pyplot as plt\n",
    "import seaborn as sns"
   ]
  },
  {
   "cell_type": "markdown",
   "id": "f80d5d88",
   "metadata": {},
   "source": [
    "### Loading the Data\n",
    "\n",
    "Let's pick up the Excel file for Analysis."
   ]
  },
  {
   "cell_type": "code",
   "execution_count": 4,
   "id": "ccb1d8e4",
   "metadata": {},
   "outputs": [],
   "source": [
    "df = pd.read_csv(\"C:\\\\Users\\\\srina\\\\OneDrive\\\\Desktop\\\\netflix_titles.csv\")\n"
   ]
  },
  {
   "cell_type": "code",
   "execution_count": 5,
   "id": "a087bf2d",
   "metadata": {},
   "outputs": [
    {
     "data": {
      "text/html": [
       "<div>\n",
       "<style scoped>\n",
       "    .dataframe tbody tr th:only-of-type {\n",
       "        vertical-align: middle;\n",
       "    }\n",
       "\n",
       "    .dataframe tbody tr th {\n",
       "        vertical-align: top;\n",
       "    }\n",
       "\n",
       "    .dataframe thead th {\n",
       "        text-align: right;\n",
       "    }\n",
       "</style>\n",
       "<table border=\"1\" class=\"dataframe\">\n",
       "  <thead>\n",
       "    <tr style=\"text-align: right;\">\n",
       "      <th></th>\n",
       "      <th>show_id</th>\n",
       "      <th>type</th>\n",
       "      <th>title</th>\n",
       "      <th>director</th>\n",
       "      <th>cast</th>\n",
       "      <th>country</th>\n",
       "      <th>date_added</th>\n",
       "      <th>release_year</th>\n",
       "      <th>rating</th>\n",
       "      <th>duration</th>\n",
       "      <th>listed_in</th>\n",
       "      <th>description</th>\n",
       "    </tr>\n",
       "  </thead>\n",
       "  <tbody>\n",
       "    <tr>\n",
       "      <th>0</th>\n",
       "      <td>s1</td>\n",
       "      <td>Movie</td>\n",
       "      <td>Dick Johnson Is Dead</td>\n",
       "      <td>Kirsten Johnson</td>\n",
       "      <td>NaN</td>\n",
       "      <td>United States</td>\n",
       "      <td>September 25, 2021</td>\n",
       "      <td>2020</td>\n",
       "      <td>PG-13</td>\n",
       "      <td>90 min</td>\n",
       "      <td>Documentaries</td>\n",
       "      <td>As her father nears the end of his life, filmm...</td>\n",
       "    </tr>\n",
       "    <tr>\n",
       "      <th>1</th>\n",
       "      <td>s2</td>\n",
       "      <td>TV Show</td>\n",
       "      <td>Blood &amp; Water</td>\n",
       "      <td>NaN</td>\n",
       "      <td>Ama Qamata, Khosi Ngema, Gail Mabalane, Thaban...</td>\n",
       "      <td>South Africa</td>\n",
       "      <td>September 24, 2021</td>\n",
       "      <td>2021</td>\n",
       "      <td>TV-MA</td>\n",
       "      <td>2 Seasons</td>\n",
       "      <td>International TV Shows, TV Dramas, TV Mysteries</td>\n",
       "      <td>After crossing paths at a party, a Cape Town t...</td>\n",
       "    </tr>\n",
       "    <tr>\n",
       "      <th>2</th>\n",
       "      <td>s3</td>\n",
       "      <td>TV Show</td>\n",
       "      <td>Ganglands</td>\n",
       "      <td>Julien Leclercq</td>\n",
       "      <td>Sami Bouajila, Tracy Gotoas, Samuel Jouy, Nabi...</td>\n",
       "      <td>NaN</td>\n",
       "      <td>September 24, 2021</td>\n",
       "      <td>2021</td>\n",
       "      <td>TV-MA</td>\n",
       "      <td>1 Season</td>\n",
       "      <td>Crime TV Shows, International TV Shows, TV Act...</td>\n",
       "      <td>To protect his family from a powerful drug lor...</td>\n",
       "    </tr>\n",
       "  </tbody>\n",
       "</table>\n",
       "</div>"
      ],
      "text/plain": [
       "  show_id     type                 title         director   \n",
       "0      s1    Movie  Dick Johnson Is Dead  Kirsten Johnson  \\\n",
       "1      s2  TV Show         Blood & Water              NaN   \n",
       "2      s3  TV Show             Ganglands  Julien Leclercq   \n",
       "\n",
       "                                                cast        country   \n",
       "0                                                NaN  United States  \\\n",
       "1  Ama Qamata, Khosi Ngema, Gail Mabalane, Thaban...   South Africa   \n",
       "2  Sami Bouajila, Tracy Gotoas, Samuel Jouy, Nabi...            NaN   \n",
       "\n",
       "           date_added  release_year rating   duration   \n",
       "0  September 25, 2021          2020  PG-13     90 min  \\\n",
       "1  September 24, 2021          2021  TV-MA  2 Seasons   \n",
       "2  September 24, 2021          2021  TV-MA   1 Season   \n",
       "\n",
       "                                           listed_in   \n",
       "0                                      Documentaries  \\\n",
       "1    International TV Shows, TV Dramas, TV Mysteries   \n",
       "2  Crime TV Shows, International TV Shows, TV Act...   \n",
       "\n",
       "                                         description  \n",
       "0  As her father nears the end of his life, filmm...  \n",
       "1  After crossing paths at a party, a Cape Town t...  \n",
       "2  To protect his family from a powerful drug lor...  "
      ]
     },
     "execution_count": 5,
     "metadata": {},
     "output_type": "execute_result"
    }
   ],
   "source": [
    "#Displaying elements\n",
    "df.head(3)"
   ]
  },
  {
   "cell_type": "markdown",
   "id": "54c88ade",
   "metadata": {},
   "source": [
    "### Pre-processing the data\n",
    "\n",
    "Let's first see the information about the dataframe."
   ]
  },
  {
   "cell_type": "code",
   "execution_count": 6,
   "id": "5df6922a",
   "metadata": {},
   "outputs": [
    {
     "name": "stdout",
     "output_type": "stream",
     "text": [
      "<class 'pandas.core.frame.DataFrame'>\n",
      "RangeIndex: 8807 entries, 0 to 8806\n",
      "Data columns (total 12 columns):\n",
      " #   Column        Non-Null Count  Dtype \n",
      "---  ------        --------------  ----- \n",
      " 0   show_id       8807 non-null   object\n",
      " 1   type          8807 non-null   object\n",
      " 2   title         8807 non-null   object\n",
      " 3   director      6173 non-null   object\n",
      " 4   cast          7982 non-null   object\n",
      " 5   country       7976 non-null   object\n",
      " 6   date_added    8797 non-null   object\n",
      " 7   release_year  8807 non-null   int64 \n",
      " 8   rating        8803 non-null   object\n",
      " 9   duration      8804 non-null   object\n",
      " 10  listed_in     8807 non-null   object\n",
      " 11  description   8807 non-null   object\n",
      "dtypes: int64(1), object(11)\n",
      "memory usage: 825.8+ KB\n",
      "None\n"
     ]
    }
   ],
   "source": [
    "# Checking the Datatype\n",
    "print(df.info())"
   ]
  },
  {
   "cell_type": "code",
   "execution_count": 7,
   "id": "b8aba048",
   "metadata": {},
   "outputs": [
    {
     "data": {
      "text/plain": [
       "(8807, 12)"
      ]
     },
     "execution_count": 7,
     "metadata": {},
     "output_type": "execute_result"
    }
   ],
   "source": [
    "# Checking the no of rows and colmns\n",
    "df.shape"
   ]
  },
  {
   "cell_type": "code",
   "execution_count": 8,
   "id": "659e2b2e",
   "metadata": {},
   "outputs": [
    {
     "data": {
      "text/plain": [
       "Index(['show_id', 'type', 'title', 'director', 'cast', 'country', 'date_added',\n",
       "       'release_year', 'rating', 'duration', 'listed_in', 'description'],\n",
       "      dtype='object')"
      ]
     },
     "execution_count": 8,
     "metadata": {},
     "output_type": "execute_result"
    }
   ],
   "source": [
    "# Listing the all columns name\n",
    "df.columns"
   ]
  },
  {
   "cell_type": "markdown",
   "id": "02734e35",
   "metadata": {},
   "source": [
    "### Data Cleaning"
   ]
  },
  {
   "cell_type": "code",
   "execution_count": 9,
   "id": "62f291b9",
   "metadata": {},
   "outputs": [
    {
     "data": {
      "text/html": [
       "<div>\n",
       "<style scoped>\n",
       "    .dataframe tbody tr th:only-of-type {\n",
       "        vertical-align: middle;\n",
       "    }\n",
       "\n",
       "    .dataframe tbody tr th {\n",
       "        vertical-align: top;\n",
       "    }\n",
       "\n",
       "    .dataframe thead th {\n",
       "        text-align: right;\n",
       "    }\n",
       "</style>\n",
       "<table border=\"1\" class=\"dataframe\">\n",
       "  <thead>\n",
       "    <tr style=\"text-align: right;\">\n",
       "      <th></th>\n",
       "      <th>show_id</th>\n",
       "      <th>type</th>\n",
       "      <th>title</th>\n",
       "      <th>director</th>\n",
       "      <th>cast</th>\n",
       "      <th>country</th>\n",
       "      <th>date_added</th>\n",
       "      <th>release_year</th>\n",
       "      <th>rating</th>\n",
       "      <th>duration</th>\n",
       "      <th>listed_in</th>\n",
       "      <th>description</th>\n",
       "    </tr>\n",
       "  </thead>\n",
       "  <tbody>\n",
       "  </tbody>\n",
       "</table>\n",
       "</div>"
      ],
      "text/plain": [
       "Empty DataFrame\n",
       "Columns: [show_id, type, title, director, cast, country, date_added, release_year, rating, duration, listed_in, description]\n",
       "Index: []"
      ]
     },
     "execution_count": 9,
     "metadata": {},
     "output_type": "execute_result"
    }
   ],
   "source": [
    "# Checking the Duplicate Value\n",
    "df[df.duplicated()]"
   ]
  },
  {
   "cell_type": "code",
   "execution_count": 10,
   "id": "307acff5",
   "metadata": {},
   "outputs": [
    {
     "data": {
      "text/plain": [
       "0"
      ]
     },
     "execution_count": 10,
     "metadata": {},
     "output_type": "execute_result"
    }
   ],
   "source": [
    "#Finding the no of duplicated values\n",
    "df.duplicated().sum()"
   ]
  },
  {
   "cell_type": "code",
   "execution_count": 11,
   "id": "2f8aead6",
   "metadata": {},
   "outputs": [
    {
     "data": {
      "text/plain": [
       "show_id            0\n",
       "type               0\n",
       "title              0\n",
       "director        2634\n",
       "cast             825\n",
       "country          831\n",
       "date_added        10\n",
       "release_year       0\n",
       "rating             4\n",
       "duration           3\n",
       "listed_in          0\n",
       "description        0\n",
       "dtype: int64"
      ]
     },
     "execution_count": 11,
     "metadata": {},
     "output_type": "execute_result"
    }
   ],
   "source": [
    "# We are checking whether the dataset is having null values\n",
    "df.isnull().sum()"
   ]
  },
  {
   "cell_type": "markdown",
   "id": "9c67d2f9",
   "metadata": {},
   "source": [
    "###  As we can see that in the Director, cast, Country, date_added, Rating and duration columns has null values so, \n",
    "### We will show this with the help of heatmap."
   ]
  },
  {
   "cell_type": "code",
   "execution_count": 12,
   "id": "4b064959",
   "metadata": {},
   "outputs": [
    {
     "data": {
      "text/plain": [
       "Text(0.5, 1.0, 'Heatmap of null values')"
      ]
     },
     "execution_count": 12,
     "metadata": {},
     "output_type": "execute_result"
    },
    {
     "data": {
      "image/png": "[encoded data removed]",
      "text/plain": [
       "<Figure size 1000x600 with 2 Axes>"
      ]
     },
     "metadata": {},
     "output_type": "display_data"
    }
   ],
   "source": [
    "plt.figure(figsize=(10,6))\n",
    "sns.heatmap(df.isnull(), cmap='Greens')\n",
    "plt.title('Heatmap of null values')"
   ]
  },
  {
   "cell_type": "markdown",
   "id": "09edf765",
   "metadata": {},
   "source": [
    "\n",
    "###  Now we are using value_counts() function to know which year Highest no of TV Shows and Movies were released."
   ]
  },
  {
   "cell_type": "code",
   "execution_count": 14,
   "id": "cece5e3d",
   "metadata": {},
   "outputs": [
    {
     "data": {
      "text/plain": [
       "release_year\n",
       "2018    1147\n",
       "2017    1032\n",
       "2019    1030\n",
       "2020     953\n",
       "2016     902\n",
       "        ... \n",
       "1959       1\n",
       "1925       1\n",
       "1961       1\n",
       "1947       1\n",
       "1966       1\n",
       "Name: count, Length: 74, dtype: int64"
      ]
     },
     "execution_count": 14,
     "metadata": {},
     "output_type": "execute_result"
    }
   ],
   "source": [
    "df[\"release_year\"].value_counts()"
   ]
  },
  {
   "cell_type": "code",
   "execution_count": 21,
   "id": "bda73cb0",
   "metadata": {},
   "outputs": [
    {
     "data": {
      "text/plain": [
       "Text(0, 0.5, 'No of Releases')"
      ]
     },
     "execution_count": 21,
     "metadata": {},
     "output_type": "execute_result"
    },
    {
     "data": {
      "image/png": "[encoded data removed]",
      "text/plain": [
       "<Figure size 1400x700 with 1 Axes>"
      ]
     },
     "metadata": {},
     "output_type": "display_data"
    }
   ],
   "source": [
    "\n",
    "plt.figure(figsize=(14,7))\n",
    "df[\"release_year\"].value_counts().plot(kind= \"bar\")\n",
    "plt.title(\"Highest no of Releases in a Year\")\n",
    "plt.xlabel(\"Year\")\n",
    "plt.ylabel(\"No of Releases\")"
   ]
  },
  {
   "cell_type": "markdown",
   "id": "9a0d08f4",
   "metadata": {},
   "source": [
    "### Visualizing the data with \"Bar Chart\" for Highest no of Tv shows and Movies"
   ]
  },
  {
   "cell_type": "code",
   "execution_count": 22,
   "id": "20dc6c01",
   "metadata": {},
   "outputs": [
    {
     "data": {
      "text/plain": [
       "type\n",
       "Movie      6131\n",
       "TV Show    2676\n",
       "Name: count, dtype: int64"
      ]
     },
     "execution_count": 22,
     "metadata": {},
     "output_type": "execute_result"
    }
   ],
   "source": [
    "df[\"type\"].value_counts()"
   ]
  },
  {
   "cell_type": "code",
   "execution_count": 23,
   "id": "f073e273",
   "metadata": {},
   "outputs": [
    {
     "data": {
      "image/png": "[encoded data removed]",
      "text/plain": [
       "<Figure size 800x600 with 1 Axes>"
      ]
     },
     "metadata": {},
     "output_type": "display_data"
    }
   ],
   "source": [
    "plt.figure(figsize=(8,6))\n",
    "sns.countplot(data = df, x =\"type\")\n",
    "plt.title(\"Distribution of Netflix Titles\")\n",
    "plt.show()"
   ]
  },
  {
   "cell_type": "markdown",
   "id": "b9a8e8bb",
   "metadata": {},
   "source": [
    "###  Show all the Movies that were released in 2016."
   ]
  },
  {
   "cell_type": "code",
   "execution_count": 24,
   "id": "dea27f69",
   "metadata": {},
   "outputs": [
    {
     "data": {
      "text/html": [
       "<div>\n",
       "<style scoped>\n",
       "    .dataframe tbody tr th:only-of-type {\n",
       "        vertical-align: middle;\n",
       "    }\n",
       "\n",
       "    .dataframe tbody tr th {\n",
       "        vertical-align: top;\n",
       "    }\n",
       "\n",
       "    .dataframe thead th {\n",
       "        text-align: right;\n",
       "    }\n",
       "</style>\n",
       "<table border=\"1\" class=\"dataframe\">\n",
       "  <thead>\n",
       "    <tr style=\"text-align: right;\">\n",
       "      <th></th>\n",
       "      <th>show_id</th>\n",
       "      <th>type</th>\n",
       "      <th>title</th>\n",
       "      <th>director</th>\n",
       "      <th>cast</th>\n",
       "      <th>country</th>\n",
       "      <th>date_added</th>\n",
       "      <th>release_year</th>\n",
       "      <th>rating</th>\n",
       "      <th>duration</th>\n",
       "      <th>listed_in</th>\n",
       "      <th>description</th>\n",
       "    </tr>\n",
       "  </thead>\n",
       "  <tbody>\n",
       "    <tr>\n",
       "      <th>104</th>\n",
       "      <td>s105</td>\n",
       "      <td>TV Show</td>\n",
       "      <td>Tayo the Little Bus</td>\n",
       "      <td>NaN</td>\n",
       "      <td>Robyn Slade, Kami Desilets</td>\n",
       "      <td>South Korea</td>\n",
       "      <td>September 6, 2021</td>\n",
       "      <td>2016</td>\n",
       "      <td>TV-Y</td>\n",
       "      <td>2 Seasons</td>\n",
       "      <td>Kids' TV, Korean TV Shows</td>\n",
       "      <td>As they learn their routes around the busy cit...</td>\n",
       "    </tr>\n",
       "    <tr>\n",
       "      <th>153</th>\n",
       "      <td>s154</td>\n",
       "      <td>TV Show</td>\n",
       "      <td>Kid-E-Cats</td>\n",
       "      <td>NaN</td>\n",
       "      <td>Lori Gardner, Kate Bristol, Billy Bob Thompson...</td>\n",
       "      <td>Russia</td>\n",
       "      <td>September 1, 2021</td>\n",
       "      <td>2016</td>\n",
       "      <td>TV-Y</td>\n",
       "      <td>2 Seasons</td>\n",
       "      <td>Kids' TV</td>\n",
       "      <td>Cookie, Pudding and Candy are kitten siblings ...</td>\n",
       "    </tr>\n",
       "    <tr>\n",
       "      <th>212</th>\n",
       "      <td>s213</td>\n",
       "      <td>TV Show</td>\n",
       "      <td>Rebellion</td>\n",
       "      <td>NaN</td>\n",
       "      <td>Charlie Murphy, Ruth Bradley, Sarah Greene, Br...</td>\n",
       "      <td>Ireland</td>\n",
       "      <td>August 27, 2021</td>\n",
       "      <td>2016</td>\n",
       "      <td>TV-MA</td>\n",
       "      <td>2 Seasons</td>\n",
       "      <td>International TV Shows, TV Dramas</td>\n",
       "      <td>As World War I rages, three women and their fa...</td>\n",
       "    </tr>\n",
       "    <tr>\n",
       "      <th>263</th>\n",
       "      <td>s264</td>\n",
       "      <td>TV Show</td>\n",
       "      <td>Mother Goose Club</td>\n",
       "      <td>NaN</td>\n",
       "      <td>NaN</td>\n",
       "      <td>United States</td>\n",
       "      <td>August 16, 2021</td>\n",
       "      <td>2016</td>\n",
       "      <td>TV-Y</td>\n",
       "      <td>2 Seasons</td>\n",
       "      <td>Kids' TV</td>\n",
       "      <td>Classic nursery rhymes and children's songs ge...</td>\n",
       "    </tr>\n",
       "    <tr>\n",
       "      <th>510</th>\n",
       "      <td>s511</td>\n",
       "      <td>TV Show</td>\n",
       "      <td>Between</td>\n",
       "      <td>NaN</td>\n",
       "      <td>Jennette McCurdy, Jesse Carere, Ryan Allen, Ju...</td>\n",
       "      <td>Canada</td>\n",
       "      <td>July 6, 2021</td>\n",
       "      <td>2016</td>\n",
       "      <td>TV-14</td>\n",
       "      <td>2 Seasons</td>\n",
       "      <td>International TV Shows, TV Dramas, TV Mysteries</td>\n",
       "      <td>After a mysterious disease kills every residen...</td>\n",
       "    </tr>\n",
       "    <tr>\n",
       "      <th>527</th>\n",
       "      <td>s528</td>\n",
       "      <td>TV Show</td>\n",
       "      <td>Puffin Rock</td>\n",
       "      <td>NaN</td>\n",
       "      <td>Chris O'Dowd, Kate McCafferty, Sally McDaid, G...</td>\n",
       "      <td>Ireland, United States, United Kingdom</td>\n",
       "      <td>July 6, 2021</td>\n",
       "      <td>2016</td>\n",
       "      <td>TV-Y</td>\n",
       "      <td>2 Seasons</td>\n",
       "      <td>Kids' TV</td>\n",
       "      <td>Life is sweet on beautiful Puffin Rock, where ...</td>\n",
       "    </tr>\n",
       "    <tr>\n",
       "      <th>590</th>\n",
       "      <td>s591</td>\n",
       "      <td>TV Show</td>\n",
       "      <td>Sailor Moon Crystal</td>\n",
       "      <td>NaN</td>\n",
       "      <td>Kotono Mitsuishi, Hisako Kanemoto, Rina Satou,...</td>\n",
       "      <td>NaN</td>\n",
       "      <td>July 1, 2021</td>\n",
       "      <td>2016</td>\n",
       "      <td>TV-Y7</td>\n",
       "      <td>3 Seasons</td>\n",
       "      <td>Anime Series, Kids' TV</td>\n",
       "      <td>Middle schooler Usagi Tsukino and her friends ...</td>\n",
       "    </tr>\n",
       "    <tr>\n",
       "      <th>733</th>\n",
       "      <td>s734</td>\n",
       "      <td>TV Show</td>\n",
       "      <td>LEGO Friends: The Power of Friendship</td>\n",
       "      <td>NaN</td>\n",
       "      <td>Erica Mendez, Marianne Miller, Rachelle Heger,...</td>\n",
       "      <td>Denmark</td>\n",
       "      <td>June 11, 2021</td>\n",
       "      <td>2016</td>\n",
       "      <td>TV-Y7</td>\n",
       "      <td>2 Seasons</td>\n",
       "      <td>Kids' TV</td>\n",
       "      <td>Five best friends face adventures side by side...</td>\n",
       "    </tr>\n",
       "    <tr>\n",
       "      <th>843</th>\n",
       "      <td>s844</td>\n",
       "      <td>TV Show</td>\n",
       "      <td>JoJo's Bizarre Adventure</td>\n",
       "      <td>NaN</td>\n",
       "      <td>Kazuyuki Okitsu, Tomokazu Sugita, Daisuke Ono,...</td>\n",
       "      <td>Japan</td>\n",
       "      <td>May 26, 2021</td>\n",
       "      <td>2016</td>\n",
       "      <td>TV-MA</td>\n",
       "      <td>3 Seasons</td>\n",
       "      <td>Anime Series, International TV Shows</td>\n",
       "      <td>Multiple generations of the Joestar family – a...</td>\n",
       "    </tr>\n",
       "    <tr>\n",
       "      <th>1038</th>\n",
       "      <td>s1039</td>\n",
       "      <td>TV Show</td>\n",
       "      <td>Dancing Angels</td>\n",
       "      <td>NaN</td>\n",
       "      <td>NaN</td>\n",
       "      <td>NaN</td>\n",
       "      <td>April 15, 2021</td>\n",
       "      <td>2016</td>\n",
       "      <td>TV-PG</td>\n",
       "      <td>1 Season</td>\n",
       "      <td>International TV Shows, Romantic TV Shows, TV ...</td>\n",
       "      <td>A group of aspiring young musicians yearn for ...</td>\n",
       "    </tr>\n",
       "  </tbody>\n",
       "</table>\n",
       "</div>"
      ],
      "text/plain": [
       "     show_id     type                                  title director   \n",
       "104     s105  TV Show                    Tayo the Little Bus      NaN  \\\n",
       "153     s154  TV Show                             Kid-E-Cats      NaN   \n",
       "212     s213  TV Show                              Rebellion      NaN   \n",
       "263     s264  TV Show                      Mother Goose Club      NaN   \n",
       "510     s511  TV Show                                Between      NaN   \n",
       "527     s528  TV Show                            Puffin Rock      NaN   \n",
       "590     s591  TV Show                    Sailor Moon Crystal      NaN   \n",
       "733     s734  TV Show  LEGO Friends: The Power of Friendship      NaN   \n",
       "843     s844  TV Show               JoJo's Bizarre Adventure      NaN   \n",
       "1038   s1039  TV Show                         Dancing Angels      NaN   \n",
       "\n",
       "                                                   cast   \n",
       "104                          Robyn Slade, Kami Desilets  \\\n",
       "153   Lori Gardner, Kate Bristol, Billy Bob Thompson...   \n",
       "212   Charlie Murphy, Ruth Bradley, Sarah Greene, Br...   \n",
       "263                                                 NaN   \n",
       "510   Jennette McCurdy, Jesse Carere, Ryan Allen, Ju...   \n",
       "527   Chris O'Dowd, Kate McCafferty, Sally McDaid, G...   \n",
       "590   Kotono Mitsuishi, Hisako Kanemoto, Rina Satou,...   \n",
       "733   Erica Mendez, Marianne Miller, Rachelle Heger,...   \n",
       "843   Kazuyuki Okitsu, Tomokazu Sugita, Daisuke Ono,...   \n",
       "1038                                                NaN   \n",
       "\n",
       "                                     country         date_added  release_year   \n",
       "104                              South Korea  September 6, 2021          2016  \\\n",
       "153                                   Russia  September 1, 2021          2016   \n",
       "212                                  Ireland    August 27, 2021          2016   \n",
       "263                            United States    August 16, 2021          2016   \n",
       "510                                   Canada       July 6, 2021          2016   \n",
       "527   Ireland, United States, United Kingdom       July 6, 2021          2016   \n",
       "590                                      NaN       July 1, 2021          2016   \n",
       "733                                  Denmark      June 11, 2021          2016   \n",
       "843                                    Japan       May 26, 2021          2016   \n",
       "1038                                     NaN     April 15, 2021          2016   \n",
       "\n",
       "     rating   duration                                          listed_in   \n",
       "104    TV-Y  2 Seasons                          Kids' TV, Korean TV Shows  \\\n",
       "153    TV-Y  2 Seasons                                           Kids' TV   \n",
       "212   TV-MA  2 Seasons                  International TV Shows, TV Dramas   \n",
       "263    TV-Y  2 Seasons                                           Kids' TV   \n",
       "510   TV-14  2 Seasons    International TV Shows, TV Dramas, TV Mysteries   \n",
       "527    TV-Y  2 Seasons                                           Kids' TV   \n",
       "590   TV-Y7  3 Seasons                             Anime Series, Kids' TV   \n",
       "733   TV-Y7  2 Seasons                                           Kids' TV   \n",
       "843   TV-MA  3 Seasons               Anime Series, International TV Shows   \n",
       "1038  TV-PG   1 Season  International TV Shows, Romantic TV Shows, TV ...   \n",
       "\n",
       "                                            description  \n",
       "104   As they learn their routes around the busy cit...  \n",
       "153   Cookie, Pudding and Candy are kitten siblings ...  \n",
       "212   As World War I rages, three women and their fa...  \n",
       "263   Classic nursery rhymes and children's songs ge...  \n",
       "510   After a mysterious disease kills every residen...  \n",
       "527   Life is sweet on beautiful Puffin Rock, where ...  \n",
       "590   Middle schooler Usagi Tsukino and her friends ...  \n",
       "733   Five best friends face adventures side by side...  \n",
       "843   Multiple generations of the Joestar family – a...  \n",
       "1038  A group of aspiring young musicians yearn for ...  "
      ]
     },
     "execution_count": 24,
     "metadata": {},
     "output_type": "execute_result"
    }
   ],
   "source": [
    "df[(df[\"type\"] == \"TV Show\") & (df[\"release_year\"] == 2016)].head(10)"
   ]
  },
  {
   "cell_type": "markdown",
   "id": "691fbb92",
   "metadata": {},
   "source": [
    "###  Show only the titles of all the TV Shows that were released in India."
   ]
  },
  {
   "cell_type": "code",
   "execution_count": 25,
   "id": "79572c8f",
   "metadata": {},
   "outputs": [
    {
     "data": {
      "text/plain": [
       "24                      Jeans\n",
       "105          Angamaly Diaries\n",
       "114                    Anjaam\n",
       "116                    Dhanak\n",
       "118                   Gurgaon\n",
       "                ...          \n",
       "8772    Yamla Pagla Deewana 2\n",
       "8773      Yanda Kartavya Aahe\n",
       "8798                 Zed Plus\n",
       "8799                    Zenda\n",
       "8806                   Zubaan\n",
       "Name: title, Length: 893, dtype: object"
      ]
     },
     "execution_count": 25,
     "metadata": {},
     "output_type": "execute_result"
    }
   ],
   "source": [
    "df[(df[\"type\"] == \"Movie\") & (df[\"country\"] == \"India\")][\"title\"]"
   ]
  },
  {
   "cell_type": "markdown",
   "id": "741b7269",
   "metadata": {},
   "source": [
    "## Finding the top 5 directors who gave highest number of TV Shows and Movies to Netflix"
   ]
  },
  {
   "cell_type": "code",
   "execution_count": 26,
   "id": "0d450087",
   "metadata": {},
   "outputs": [
    {
     "data": {
      "text/plain": [
       "director\n",
       "Rajiv Chilaka             19\n",
       "Raúl Campos, Jan Suter    18\n",
       "Marcus Raboy              16\n",
       "Suhas Kadav               16\n",
       "Jay Karas                 14\n",
       "Name: count, dtype: int64"
      ]
     },
     "execution_count": 26,
     "metadata": {},
     "output_type": "execute_result"
    }
   ],
   "source": [
    "# Show top 5 directors who gave highest number of TV Shows and Movies to Netflix.\n",
    "df[\"director\"].value_counts().head()"
   ]
  },
  {
   "cell_type": "markdown",
   "id": "94ebebcc",
   "metadata": {},
   "source": [
    "###  Showing all the records where ‘Category is Movies' and 'Type is Comedies’ or ‘Country is India'"
   ]
  },
  {
   "cell_type": "code",
   "execution_count": 27,
   "id": "c425598a",
   "metadata": {},
   "outputs": [
    {
     "data": {
      "text/html": [
       "<div>\n",
       "<style scoped>\n",
       "    .dataframe tbody tr th:only-of-type {\n",
       "        vertical-align: middle;\n",
       "    }\n",
       "\n",
       "    .dataframe tbody tr th {\n",
       "        vertical-align: top;\n",
       "    }\n",
       "\n",
       "    .dataframe thead th {\n",
       "        text-align: right;\n",
       "    }\n",
       "</style>\n",
       "<table border=\"1\" class=\"dataframe\">\n",
       "  <thead>\n",
       "    <tr style=\"text-align: right;\">\n",
       "      <th></th>\n",
       "      <th>show_id</th>\n",
       "      <th>type</th>\n",
       "      <th>title</th>\n",
       "      <th>director</th>\n",
       "      <th>cast</th>\n",
       "      <th>country</th>\n",
       "      <th>date_added</th>\n",
       "      <th>release_year</th>\n",
       "      <th>rating</th>\n",
       "      <th>duration</th>\n",
       "      <th>listed_in</th>\n",
       "      <th>description</th>\n",
       "    </tr>\n",
       "  </thead>\n",
       "  <tbody>\n",
       "    <tr>\n",
       "      <th>4</th>\n",
       "      <td>s5</td>\n",
       "      <td>TV Show</td>\n",
       "      <td>Kota Factory</td>\n",
       "      <td>NaN</td>\n",
       "      <td>Mayur More, Jitendra Kumar, Ranjan Raj, Alam K...</td>\n",
       "      <td>India</td>\n",
       "      <td>September 24, 2021</td>\n",
       "      <td>2021</td>\n",
       "      <td>TV-MA</td>\n",
       "      <td>2 Seasons</td>\n",
       "      <td>International TV Shows, Romantic TV Shows, TV ...</td>\n",
       "      <td>In a city of coaching centers known to train I...</td>\n",
       "    </tr>\n",
       "    <tr>\n",
       "      <th>24</th>\n",
       "      <td>s25</td>\n",
       "      <td>Movie</td>\n",
       "      <td>Jeans</td>\n",
       "      <td>S. Shankar</td>\n",
       "      <td>Prashanth, Aishwarya Rai Bachchan, Sri Lakshmi...</td>\n",
       "      <td>India</td>\n",
       "      <td>September 21, 2021</td>\n",
       "      <td>1998</td>\n",
       "      <td>TV-14</td>\n",
       "      <td>166 min</td>\n",
       "      <td>Comedies, International Movies, Romantic Movies</td>\n",
       "      <td>When the father of the man she loves insists t...</td>\n",
       "    </tr>\n",
       "    <tr>\n",
       "      <th>27</th>\n",
       "      <td>s28</td>\n",
       "      <td>Movie</td>\n",
       "      <td>Grown Ups</td>\n",
       "      <td>Dennis Dugan</td>\n",
       "      <td>Adam Sandler, Kevin James, Chris Rock, David S...</td>\n",
       "      <td>United States</td>\n",
       "      <td>September 20, 2021</td>\n",
       "      <td>2010</td>\n",
       "      <td>PG-13</td>\n",
       "      <td>103 min</td>\n",
       "      <td>Comedies</td>\n",
       "      <td>Mourning the loss of their beloved junior high...</td>\n",
       "    </tr>\n",
       "    <tr>\n",
       "      <th>39</th>\n",
       "      <td>s40</td>\n",
       "      <td>TV Show</td>\n",
       "      <td>Chhota Bheem</td>\n",
       "      <td>NaN</td>\n",
       "      <td>Vatsal Dubey, Julie Tejwani, Rupa Bhimani, Jig...</td>\n",
       "      <td>India</td>\n",
       "      <td>September 16, 2021</td>\n",
       "      <td>2021</td>\n",
       "      <td>TV-Y7</td>\n",
       "      <td>3 Seasons</td>\n",
       "      <td>Kids' TV</td>\n",
       "      <td>A brave, energetic little boy with superhuman ...</td>\n",
       "    </tr>\n",
       "    <tr>\n",
       "      <th>50</th>\n",
       "      <td>s51</td>\n",
       "      <td>TV Show</td>\n",
       "      <td>Dharmakshetra</td>\n",
       "      <td>NaN</td>\n",
       "      <td>Kashmira Irani, Chandan Anand, Dinesh Mehta, A...</td>\n",
       "      <td>India</td>\n",
       "      <td>September 15, 2021</td>\n",
       "      <td>2014</td>\n",
       "      <td>TV-PG</td>\n",
       "      <td>1 Season</td>\n",
       "      <td>International TV Shows, TV Dramas, TV Sci-Fi &amp;...</td>\n",
       "      <td>After the ancient Great War, the god Chitragup...</td>\n",
       "    </tr>\n",
       "  </tbody>\n",
       "</table>\n",
       "</div>"
      ],
      "text/plain": [
       "   show_id     type          title      director   \n",
       "4       s5  TV Show   Kota Factory           NaN  \\\n",
       "24     s25    Movie          Jeans    S. Shankar   \n",
       "27     s28    Movie      Grown Ups  Dennis Dugan   \n",
       "39     s40  TV Show   Chhota Bheem           NaN   \n",
       "50     s51  TV Show  Dharmakshetra           NaN   \n",
       "\n",
       "                                                 cast        country   \n",
       "4   Mayur More, Jitendra Kumar, Ranjan Raj, Alam K...          India  \\\n",
       "24  Prashanth, Aishwarya Rai Bachchan, Sri Lakshmi...          India   \n",
       "27  Adam Sandler, Kevin James, Chris Rock, David S...  United States   \n",
       "39  Vatsal Dubey, Julie Tejwani, Rupa Bhimani, Jig...          India   \n",
       "50  Kashmira Irani, Chandan Anand, Dinesh Mehta, A...          India   \n",
       "\n",
       "            date_added  release_year rating   duration   \n",
       "4   September 24, 2021          2021  TV-MA  2 Seasons  \\\n",
       "24  September 21, 2021          1998  TV-14    166 min   \n",
       "27  September 20, 2021          2010  PG-13    103 min   \n",
       "39  September 16, 2021          2021  TV-Y7  3 Seasons   \n",
       "50  September 15, 2021          2014  TV-PG   1 Season   \n",
       "\n",
       "                                            listed_in   \n",
       "4   International TV Shows, Romantic TV Shows, TV ...  \\\n",
       "24    Comedies, International Movies, Romantic Movies   \n",
       "27                                           Comedies   \n",
       "39                                           Kids' TV   \n",
       "50  International TV Shows, TV Dramas, TV Sci-Fi &...   \n",
       "\n",
       "                                          description  \n",
       "4   In a city of coaching centers known to train I...  \n",
       "24  When the father of the man she loves insists t...  \n",
       "27  Mourning the loss of their beloved junior high...  \n",
       "39  A brave, energetic little boy with superhuman ...  \n",
       "50  After the ancient Great War, the god Chitragup...  "
      ]
     },
     "execution_count": 27,
     "metadata": {},
     "output_type": "execute_result"
    }
   ],
   "source": [
    "df[(df[\"type\"] == \"Movie\") & (df[\"listed_in\"] == \"Comedies\") | (df[\"country\"] == \"India\")].head()"
   ]
  },
  {
   "cell_type": "code",
   "execution_count": 28,
   "id": "4365b609",
   "metadata": {},
   "outputs": [
    {
     "data": {
      "text/html": [
       "<div>\n",
       "<style scoped>\n",
       "    .dataframe tbody tr th:only-of-type {\n",
       "        vertical-align: middle;\n",
       "    }\n",
       "\n",
       "    .dataframe tbody tr th {\n",
       "        vertical-align: top;\n",
       "    }\n",
       "\n",
       "    .dataframe thead th {\n",
       "        text-align: right;\n",
       "    }\n",
       "</style>\n",
       "<table border=\"1\" class=\"dataframe\">\n",
       "  <thead>\n",
       "    <tr style=\"text-align: right;\">\n",
       "      <th></th>\n",
       "      <th>show_id</th>\n",
       "      <th>type</th>\n",
       "      <th>title</th>\n",
       "      <th>director</th>\n",
       "      <th>cast</th>\n",
       "      <th>country</th>\n",
       "      <th>date_added</th>\n",
       "      <th>release_year</th>\n",
       "      <th>rating</th>\n",
       "      <th>duration</th>\n",
       "      <th>listed_in</th>\n",
       "      <th>description</th>\n",
       "    </tr>\n",
       "  </thead>\n",
       "  <tbody>\n",
       "    <tr>\n",
       "      <th>7</th>\n",
       "      <td>s8</td>\n",
       "      <td>Movie</td>\n",
       "      <td>Sankofa</td>\n",
       "      <td>Haile Gerima</td>\n",
       "      <td>Kofi Ghanaba, Oyafunmike Ogunlano, Alexandra D...</td>\n",
       "      <td>United States, Ghana, Burkina Faso, United Kin...</td>\n",
       "      <td>September 24, 2021</td>\n",
       "      <td>1993</td>\n",
       "      <td>TV-MA</td>\n",
       "      <td>125 min</td>\n",
       "      <td>Dramas, Independent Movies, International Movies</td>\n",
       "      <td>On a photo shoot in Ghana, an American model s...</td>\n",
       "    </tr>\n",
       "    <tr>\n",
       "      <th>8</th>\n",
       "      <td>s9</td>\n",
       "      <td>TV Show</td>\n",
       "      <td>The Great British Baking Show</td>\n",
       "      <td>Andy Devonshire</td>\n",
       "      <td>Mel Giedroyc, Sue Perkins, Mary Berry, Paul Ho...</td>\n",
       "      <td>United Kingdom</td>\n",
       "      <td>September 24, 2021</td>\n",
       "      <td>2021</td>\n",
       "      <td>TV-14</td>\n",
       "      <td>9 Seasons</td>\n",
       "      <td>British TV Shows, Reality TV</td>\n",
       "      <td>A talented batch of amateur bakers face off in...</td>\n",
       "    </tr>\n",
       "    <tr>\n",
       "      <th>9</th>\n",
       "      <td>s10</td>\n",
       "      <td>Movie</td>\n",
       "      <td>The Starling</td>\n",
       "      <td>Theodore Melfi</td>\n",
       "      <td>Melissa McCarthy, Chris O'Dowd, Kevin Kline, T...</td>\n",
       "      <td>United States</td>\n",
       "      <td>September 24, 2021</td>\n",
       "      <td>2021</td>\n",
       "      <td>PG-13</td>\n",
       "      <td>104 min</td>\n",
       "      <td>Comedies, Dramas</td>\n",
       "      <td>A woman adjusting to life after a loss contend...</td>\n",
       "    </tr>\n",
       "    <tr>\n",
       "      <th>12</th>\n",
       "      <td>s13</td>\n",
       "      <td>Movie</td>\n",
       "      <td>Je Suis Karl</td>\n",
       "      <td>Christian Schwochow</td>\n",
       "      <td>Luna Wedler, Jannis Niewöhner, Milan Peschel, ...</td>\n",
       "      <td>Germany, Czech Republic</td>\n",
       "      <td>September 23, 2021</td>\n",
       "      <td>2021</td>\n",
       "      <td>TV-MA</td>\n",
       "      <td>127 min</td>\n",
       "      <td>Dramas, International Movies</td>\n",
       "      <td>After most of her family is murdered in a terr...</td>\n",
       "    </tr>\n",
       "    <tr>\n",
       "      <th>24</th>\n",
       "      <td>s25</td>\n",
       "      <td>Movie</td>\n",
       "      <td>Jeans</td>\n",
       "      <td>S. Shankar</td>\n",
       "      <td>Prashanth, Aishwarya Rai Bachchan, Sri Lakshmi...</td>\n",
       "      <td>India</td>\n",
       "      <td>September 21, 2021</td>\n",
       "      <td>1998</td>\n",
       "      <td>TV-14</td>\n",
       "      <td>166 min</td>\n",
       "      <td>Comedies, International Movies, Romantic Movies</td>\n",
       "      <td>When the father of the man she loves insists t...</td>\n",
       "    </tr>\n",
       "  </tbody>\n",
       "</table>\n",
       "</div>"
      ],
      "text/plain": [
       "   show_id     type                          title             director   \n",
       "7       s8    Movie                        Sankofa         Haile Gerima  \\\n",
       "8       s9  TV Show  The Great British Baking Show      Andy Devonshire   \n",
       "9      s10    Movie                   The Starling       Theodore Melfi   \n",
       "12     s13    Movie                   Je Suis Karl  Christian Schwochow   \n",
       "24     s25    Movie                          Jeans           S. Shankar   \n",
       "\n",
       "                                                 cast   \n",
       "7   Kofi Ghanaba, Oyafunmike Ogunlano, Alexandra D...  \\\n",
       "8   Mel Giedroyc, Sue Perkins, Mary Berry, Paul Ho...   \n",
       "9   Melissa McCarthy, Chris O'Dowd, Kevin Kline, T...   \n",
       "12  Luna Wedler, Jannis Niewöhner, Milan Peschel, ...   \n",
       "24  Prashanth, Aishwarya Rai Bachchan, Sri Lakshmi...   \n",
       "\n",
       "                                              country          date_added   \n",
       "7   United States, Ghana, Burkina Faso, United Kin...  September 24, 2021  \\\n",
       "8                                      United Kingdom  September 24, 2021   \n",
       "9                                       United States  September 24, 2021   \n",
       "12                            Germany, Czech Republic  September 23, 2021   \n",
       "24                                              India  September 21, 2021   \n",
       "\n",
       "    release_year rating   duration   \n",
       "7           1993  TV-MA    125 min  \\\n",
       "8           2021  TV-14  9 Seasons   \n",
       "9           2021  PG-13    104 min   \n",
       "12          2021  TV-MA    127 min   \n",
       "24          1998  TV-14    166 min   \n",
       "\n",
       "                                           listed_in   \n",
       "7   Dramas, Independent Movies, International Movies  \\\n",
       "8                       British TV Shows, Reality TV   \n",
       "9                                   Comedies, Dramas   \n",
       "12                      Dramas, International Movies   \n",
       "24   Comedies, International Movies, Romantic Movies   \n",
       "\n",
       "                                          description  \n",
       "7   On a photo shoot in Ghana, an American model s...  \n",
       "8   A talented batch of amateur bakers face off in...  \n",
       "9   A woman adjusting to life after a loss contend...  \n",
       "12  After most of her family is murdered in a terr...  \n",
       "24  When the father of the man she loves insists t...  "
      ]
     },
     "execution_count": 28,
     "metadata": {},
     "output_type": "execute_result"
    }
   ],
   "source": [
    "# Drop the null values from the dataset with the help of dropna() function\n",
    "new_df = df.dropna()\n",
    "new_df.head()"
   ]
  },
  {
   "cell_type": "markdown",
   "id": "ee9fb9c6",
   "metadata": {},
   "source": [
    "### Finding the particular \"Cast\"(Person) who has done more TV shows/movies"
   ]
  },
  {
   "cell_type": "code",
   "execution_count": 29,
   "id": "28b55ace",
   "metadata": {},
   "outputs": [
    {
     "data": {
      "text/html": [
       "<div>\n",
       "<style scoped>\n",
       "    .dataframe tbody tr th:only-of-type {\n",
       "        vertical-align: middle;\n",
       "    }\n",
       "\n",
       "    .dataframe tbody tr th {\n",
       "        vertical-align: top;\n",
       "    }\n",
       "\n",
       "    .dataframe thead th {\n",
       "        text-align: right;\n",
       "    }\n",
       "</style>\n",
       "<table border=\"1\" class=\"dataframe\">\n",
       "  <thead>\n",
       "    <tr style=\"text-align: right;\">\n",
       "      <th></th>\n",
       "      <th>show_id</th>\n",
       "      <th>type</th>\n",
       "      <th>title</th>\n",
       "      <th>director</th>\n",
       "      <th>cast</th>\n",
       "      <th>country</th>\n",
       "      <th>date_added</th>\n",
       "      <th>release_year</th>\n",
       "      <th>rating</th>\n",
       "      <th>duration</th>\n",
       "      <th>listed_in</th>\n",
       "      <th>description</th>\n",
       "    </tr>\n",
       "  </thead>\n",
       "  <tbody>\n",
       "    <tr>\n",
       "      <th>24</th>\n",
       "      <td>s25</td>\n",
       "      <td>Movie</td>\n",
       "      <td>Jeans</td>\n",
       "      <td>S. Shankar</td>\n",
       "      <td>Prashanth, Aishwarya Rai Bachchan, Sri Lakshmi...</td>\n",
       "      <td>India</td>\n",
       "      <td>September 21, 2021</td>\n",
       "      <td>1998</td>\n",
       "      <td>TV-14</td>\n",
       "      <td>166 min</td>\n",
       "      <td>Comedies, International Movies, Romantic Movies</td>\n",
       "      <td>When the father of the man she loves insists t...</td>\n",
       "    </tr>\n",
       "    <tr>\n",
       "      <th>2544</th>\n",
       "      <td>s2545</td>\n",
       "      <td>Movie</td>\n",
       "      <td>Action Replayy</td>\n",
       "      <td>Vipul Amrutlal Shah</td>\n",
       "      <td>Akshay Kumar, Aishwarya Rai Bachchan, Om Puri,...</td>\n",
       "      <td>India</td>\n",
       "      <td>May 11, 2020</td>\n",
       "      <td>2010</td>\n",
       "      <td>TV-PG</td>\n",
       "      <td>129 min</td>\n",
       "      <td>Children &amp; Family Movies, Comedies, Internatio...</td>\n",
       "      <td>Sick of his parents’ constant squabbling, a yo...</td>\n",
       "    </tr>\n",
       "    <tr>\n",
       "      <th>3917</th>\n",
       "      <td>s3918</td>\n",
       "      <td>Movie</td>\n",
       "      <td>Shabd</td>\n",
       "      <td>Leena Yadav</td>\n",
       "      <td>Sanjay Dutt, Aishwarya Rai Bachchan, Zayed Kha...</td>\n",
       "      <td>India</td>\n",
       "      <td>April 15, 2019</td>\n",
       "      <td>2005</td>\n",
       "      <td>TV-14</td>\n",
       "      <td>146 min</td>\n",
       "      <td>Dramas, International Movies, Romantic Movies</td>\n",
       "      <td>When a novelist seeks inspiration by urging hi...</td>\n",
       "    </tr>\n",
       "    <tr>\n",
       "      <th>4573</th>\n",
       "      <td>s4574</td>\n",
       "      <td>Movie</td>\n",
       "      <td>Jodhaa Akbar</td>\n",
       "      <td>Ashutosh Gowariker</td>\n",
       "      <td>Hrithik Roshan, Aishwarya Rai Bachchan, Sonu S...</td>\n",
       "      <td>India</td>\n",
       "      <td>October 1, 2018</td>\n",
       "      <td>2008</td>\n",
       "      <td>TV-14</td>\n",
       "      <td>214 min</td>\n",
       "      <td>Action &amp; Adventure, Dramas, International Movies</td>\n",
       "      <td>In 16th-century India, what begins as a strate...</td>\n",
       "    </tr>\n",
       "    <tr>\n",
       "      <th>4724</th>\n",
       "      <td>s4725</td>\n",
       "      <td>Movie</td>\n",
       "      <td>Guzaarish</td>\n",
       "      <td>Sanjay Leela Bhansali</td>\n",
       "      <td>Hrithik Roshan, Aishwarya Rai Bachchan, Sherna...</td>\n",
       "      <td>India</td>\n",
       "      <td>August 2, 2018</td>\n",
       "      <td>2010</td>\n",
       "      <td>TV-14</td>\n",
       "      <td>121 min</td>\n",
       "      <td>Dramas, International Movies</td>\n",
       "      <td>After an onstage disaster leaves an illusionis...</td>\n",
       "    </tr>\n",
       "    <tr>\n",
       "      <th>5008</th>\n",
       "      <td>s5009</td>\n",
       "      <td>Movie</td>\n",
       "      <td>Guru</td>\n",
       "      <td>Mani Ratnam</td>\n",
       "      <td>Abhishek Bachchan, Mithun Chakraborty, Aishwar...</td>\n",
       "      <td>India</td>\n",
       "      <td>March 1, 2018</td>\n",
       "      <td>2007</td>\n",
       "      <td>TV-PG</td>\n",
       "      <td>155 min</td>\n",
       "      <td>Dramas, International Movies</td>\n",
       "      <td>Ambitious Gurukant Desai ignores his father's ...</td>\n",
       "    </tr>\n",
       "    <tr>\n",
       "      <th>6912</th>\n",
       "      <td>s6913</td>\n",
       "      <td>Movie</td>\n",
       "      <td>Hamara Dil Aapke Paas Hai</td>\n",
       "      <td>Satish Kaushik</td>\n",
       "      <td>Anil Kapoor, Aishwarya Rai Bachchan, Sonali Be...</td>\n",
       "      <td>India</td>\n",
       "      <td>March 1, 2018</td>\n",
       "      <td>2000</td>\n",
       "      <td>TV-14</td>\n",
       "      <td>158 min</td>\n",
       "      <td>Dramas, International Movies, Music &amp; Musicals</td>\n",
       "      <td>Love blooms when kind-hearted Avinash takes in...</td>\n",
       "    </tr>\n",
       "    <tr>\n",
       "      <th>7249</th>\n",
       "      <td>s7250</td>\n",
       "      <td>Movie</td>\n",
       "      <td>Kyun! Ho Gaya Na</td>\n",
       "      <td>Samir Karnik</td>\n",
       "      <td>Aishwarya Rai Bachchan, Vivek Oberoi, Amitabh ...</td>\n",
       "      <td>India</td>\n",
       "      <td>March 1, 2018</td>\n",
       "      <td>2004</td>\n",
       "      <td>TV-PG</td>\n",
       "      <td>165 min</td>\n",
       "      <td>International Movies, Romantic Movies</td>\n",
       "      <td>Cinematic lovebirds Aishwarya Rai and Vivek Ob...</td>\n",
       "    </tr>\n",
       "    <tr>\n",
       "      <th>8144</th>\n",
       "      <td>s8145</td>\n",
       "      <td>Movie</td>\n",
       "      <td>Taal</td>\n",
       "      <td>Subhash Ghai</td>\n",
       "      <td>Anil Kapoor, Aishwarya Rai Bachchan, Akshaye K...</td>\n",
       "      <td>India</td>\n",
       "      <td>March 1, 2018</td>\n",
       "      <td>1999</td>\n",
       "      <td>TV-PG</td>\n",
       "      <td>177 min</td>\n",
       "      <td>Dramas, International Movies, Music &amp; Musicals</td>\n",
       "      <td>Businessman Manav falls for aspiring singer Ma...</td>\n",
       "    </tr>\n",
       "  </tbody>\n",
       "</table>\n",
       "</div>"
      ],
      "text/plain": [
       "     show_id   type                      title               director   \n",
       "24       s25  Movie                      Jeans             S. Shankar  \\\n",
       "2544   s2545  Movie             Action Replayy    Vipul Amrutlal Shah   \n",
       "3917   s3918  Movie                      Shabd            Leena Yadav   \n",
       "4573   s4574  Movie               Jodhaa Akbar     Ashutosh Gowariker   \n",
       "4724   s4725  Movie                  Guzaarish  Sanjay Leela Bhansali   \n",
       "5008   s5009  Movie                       Guru            Mani Ratnam   \n",
       "6912   s6913  Movie  Hamara Dil Aapke Paas Hai         Satish Kaushik   \n",
       "7249   s7250  Movie           Kyun! Ho Gaya Na           Samir Karnik   \n",
       "8144   s8145  Movie                       Taal           Subhash Ghai   \n",
       "\n",
       "                                                   cast country   \n",
       "24    Prashanth, Aishwarya Rai Bachchan, Sri Lakshmi...   India  \\\n",
       "2544  Akshay Kumar, Aishwarya Rai Bachchan, Om Puri,...   India   \n",
       "3917  Sanjay Dutt, Aishwarya Rai Bachchan, Zayed Kha...   India   \n",
       "4573  Hrithik Roshan, Aishwarya Rai Bachchan, Sonu S...   India   \n",
       "4724  Hrithik Roshan, Aishwarya Rai Bachchan, Sherna...   India   \n",
       "5008  Abhishek Bachchan, Mithun Chakraborty, Aishwar...   India   \n",
       "6912  Anil Kapoor, Aishwarya Rai Bachchan, Sonali Be...   India   \n",
       "7249  Aishwarya Rai Bachchan, Vivek Oberoi, Amitabh ...   India   \n",
       "8144  Anil Kapoor, Aishwarya Rai Bachchan, Akshaye K...   India   \n",
       "\n",
       "              date_added  release_year rating duration   \n",
       "24    September 21, 2021          1998  TV-14  166 min  \\\n",
       "2544        May 11, 2020          2010  TV-PG  129 min   \n",
       "3917      April 15, 2019          2005  TV-14  146 min   \n",
       "4573     October 1, 2018          2008  TV-14  214 min   \n",
       "4724      August 2, 2018          2010  TV-14  121 min   \n",
       "5008       March 1, 2018          2007  TV-PG  155 min   \n",
       "6912       March 1, 2018          2000  TV-14  158 min   \n",
       "7249       March 1, 2018          2004  TV-PG  165 min   \n",
       "8144       March 1, 2018          1999  TV-PG  177 min   \n",
       "\n",
       "                                              listed_in   \n",
       "24      Comedies, International Movies, Romantic Movies  \\\n",
       "2544  Children & Family Movies, Comedies, Internatio...   \n",
       "3917      Dramas, International Movies, Romantic Movies   \n",
       "4573   Action & Adventure, Dramas, International Movies   \n",
       "4724                       Dramas, International Movies   \n",
       "5008                       Dramas, International Movies   \n",
       "6912     Dramas, International Movies, Music & Musicals   \n",
       "7249              International Movies, Romantic Movies   \n",
       "8144     Dramas, International Movies, Music & Musicals   \n",
       "\n",
       "                                            description  \n",
       "24    When the father of the man she loves insists t...  \n",
       "2544  Sick of his parents’ constant squabbling, a yo...  \n",
       "3917  When a novelist seeks inspiration by urging hi...  \n",
       "4573  In 16th-century India, what begins as a strate...  \n",
       "4724  After an onstage disaster leaves an illusionis...  \n",
       "5008  Ambitious Gurukant Desai ignores his father's ...  \n",
       "6912  Love blooms when kind-hearted Avinash takes in...  \n",
       "7249  Cinematic lovebirds Aishwarya Rai and Vivek Ob...  \n",
       "8144  Businessman Manav falls for aspiring singer Ma...  "
      ]
     },
     "execution_count": 29,
     "metadata": {},
     "output_type": "execute_result"
    }
   ],
   "source": [
    "new_df[new_df[\"cast\"].str.contains(\"Aishwarya Rai Bachchan\")]\n"
   ]
  },
  {
   "cell_type": "markdown",
   "id": "01a0e9a1",
   "metadata": {},
   "source": [
    "# What are the Different \"Rating\" given to Movie/TV shows  in Netflix."
   ]
  },
  {
   "cell_type": "code",
   "execution_count": 30,
   "id": "43162165",
   "metadata": {},
   "outputs": [
    {
     "data": {
      "text/plain": [
       "array(['TV-MA', 'TV-14', 'PG-13', 'PG', 'R', 'TV-PG', 'G', 'TV-Y7',\n",
       "       'TV-G', 'TV-Y', 'NC-17', 'NR', 'TV-Y7-FV', 'UR'], dtype=object)"
      ]
     },
     "execution_count": 30,
     "metadata": {},
     "output_type": "execute_result"
    }
   ],
   "source": [
    "# What are the different rating defined by Netflix, and how many Movies got TV-MA Rating in India?\n",
    "new_df[\"rating\"].unique()"
   ]
  },
  {
   "cell_type": "markdown",
   "id": "5d268aa1",
   "metadata": {},
   "source": [
    "### How many Movies got \"TV-MA\" Rating in India? "
   ]
  },
  {
   "cell_type": "code",
   "execution_count": 31,
   "id": "63ec1667",
   "metadata": {},
   "outputs": [
    {
     "data": {
      "text/html": [
       "<div>\n",
       "<style scoped>\n",
       "    .dataframe tbody tr th:only-of-type {\n",
       "        vertical-align: middle;\n",
       "    }\n",
       "\n",
       "    .dataframe tbody tr th {\n",
       "        vertical-align: top;\n",
       "    }\n",
       "\n",
       "    .dataframe thead th {\n",
       "        text-align: right;\n",
       "    }\n",
       "</style>\n",
       "<table border=\"1\" class=\"dataframe\">\n",
       "  <thead>\n",
       "    <tr style=\"text-align: right;\">\n",
       "      <th></th>\n",
       "      <th>show_id</th>\n",
       "      <th>type</th>\n",
       "      <th>title</th>\n",
       "      <th>director</th>\n",
       "      <th>cast</th>\n",
       "      <th>country</th>\n",
       "      <th>date_added</th>\n",
       "      <th>release_year</th>\n",
       "      <th>rating</th>\n",
       "      <th>duration</th>\n",
       "      <th>listed_in</th>\n",
       "      <th>description</th>\n",
       "    </tr>\n",
       "  </thead>\n",
       "  <tbody>\n",
       "    <tr>\n",
       "      <th>202</th>\n",
       "      <td>s203</td>\n",
       "      <td>Movie</td>\n",
       "      <td>Kyaa Kool Hai Hum</td>\n",
       "      <td>Sangeeth Sivan</td>\n",
       "      <td>Tusshar Kapoor, Riteish Deshmukh, Isha Koppika...</td>\n",
       "      <td>India</td>\n",
       "      <td>August 27, 2021</td>\n",
       "      <td>2005</td>\n",
       "      <td>TV-MA</td>\n",
       "      <td>165 min</td>\n",
       "      <td>Comedies, International Movies, Music &amp; Musicals</td>\n",
       "      <td>Longtime friends Rahul and Karan head to Mumba...</td>\n",
       "    </tr>\n",
       "    <tr>\n",
       "      <th>203</th>\n",
       "      <td>s204</td>\n",
       "      <td>Movie</td>\n",
       "      <td>Kyaa Kool Hain Hum 3</td>\n",
       "      <td>Umesh Ghadge</td>\n",
       "      <td>Tusshar Kapoor, Aftab Shivdasani, Krishna Abhi...</td>\n",
       "      <td>India</td>\n",
       "      <td>August 27, 2021</td>\n",
       "      <td>2016</td>\n",
       "      <td>TV-MA</td>\n",
       "      <td>124 min</td>\n",
       "      <td>Comedies, International Movies</td>\n",
       "      <td>When an unlikely porn actor falls for a woman ...</td>\n",
       "    </tr>\n",
       "    <tr>\n",
       "      <th>204</th>\n",
       "      <td>s205</td>\n",
       "      <td>Movie</td>\n",
       "      <td>Kyaa Super Kool Hain Hum</td>\n",
       "      <td>Sachin Yardi</td>\n",
       "      <td>Tusshar Kapoor, Riteish Deshmukh, Anupam Kher,...</td>\n",
       "      <td>India</td>\n",
       "      <td>August 27, 2021</td>\n",
       "      <td>2012</td>\n",
       "      <td>TV-MA</td>\n",
       "      <td>136 min</td>\n",
       "      <td>Comedies, International Movies</td>\n",
       "      <td>An aspiring actor and a struggling DJ team up ...</td>\n",
       "    </tr>\n",
       "    <tr>\n",
       "      <th>206</th>\n",
       "      <td>s207</td>\n",
       "      <td>Movie</td>\n",
       "      <td>LSD: Love, Sex Aur Dhokha</td>\n",
       "      <td>Dibakar Banerjee</td>\n",
       "      <td>Nushrat Bharucha, Anshuman Jha, Neha Chauhan, ...</td>\n",
       "      <td>India</td>\n",
       "      <td>August 27, 2021</td>\n",
       "      <td>2010</td>\n",
       "      <td>TV-MA</td>\n",
       "      <td>112 min</td>\n",
       "      <td>Dramas, Independent Movies, International Movies</td>\n",
       "      <td>This provocative drama examines how the voyeur...</td>\n",
       "    </tr>\n",
       "    <tr>\n",
       "      <th>210</th>\n",
       "      <td>s211</td>\n",
       "      <td>Movie</td>\n",
       "      <td>Ragini MMS</td>\n",
       "      <td>Pawan Kripalani</td>\n",
       "      <td>Kainaz Motivala, Rajkummar Rao, Rajat Kaul, Ja...</td>\n",
       "      <td>India</td>\n",
       "      <td>August 27, 2021</td>\n",
       "      <td>2011</td>\n",
       "      <td>TV-MA</td>\n",
       "      <td>93 min</td>\n",
       "      <td>Horror Movies, International Movies</td>\n",
       "      <td>A couple out to have a sensuous weekend at a h...</td>\n",
       "    </tr>\n",
       "  </tbody>\n",
       "</table>\n",
       "</div>"
      ],
      "text/plain": [
       "    show_id   type                      title          director   \n",
       "202    s203  Movie          Kyaa Kool Hai Hum    Sangeeth Sivan  \\\n",
       "203    s204  Movie       Kyaa Kool Hain Hum 3      Umesh Ghadge   \n",
       "204    s205  Movie   Kyaa Super Kool Hain Hum      Sachin Yardi   \n",
       "206    s207  Movie  LSD: Love, Sex Aur Dhokha  Dibakar Banerjee   \n",
       "210    s211  Movie                 Ragini MMS   Pawan Kripalani   \n",
       "\n",
       "                                                  cast country   \n",
       "202  Tusshar Kapoor, Riteish Deshmukh, Isha Koppika...   India  \\\n",
       "203  Tusshar Kapoor, Aftab Shivdasani, Krishna Abhi...   India   \n",
       "204  Tusshar Kapoor, Riteish Deshmukh, Anupam Kher,...   India   \n",
       "206  Nushrat Bharucha, Anshuman Jha, Neha Chauhan, ...   India   \n",
       "210  Kainaz Motivala, Rajkummar Rao, Rajat Kaul, Ja...   India   \n",
       "\n",
       "          date_added  release_year rating duration   \n",
       "202  August 27, 2021          2005  TV-MA  165 min  \\\n",
       "203  August 27, 2021          2016  TV-MA  124 min   \n",
       "204  August 27, 2021          2012  TV-MA  136 min   \n",
       "206  August 27, 2021          2010  TV-MA  112 min   \n",
       "210  August 27, 2021          2011  TV-MA   93 min   \n",
       "\n",
       "                                            listed_in   \n",
       "202  Comedies, International Movies, Music & Musicals  \\\n",
       "203                    Comedies, International Movies   \n",
       "204                    Comedies, International Movies   \n",
       "206  Dramas, Independent Movies, International Movies   \n",
       "210               Horror Movies, International Movies   \n",
       "\n",
       "                                           description  \n",
       "202  Longtime friends Rahul and Karan head to Mumba...  \n",
       "203  When an unlikely porn actor falls for a woman ...  \n",
       "204  An aspiring actor and a struggling DJ team up ...  \n",
       "206  This provocative drama examines how the voyeur...  \n",
       "210  A couple out to have a sensuous weekend at a h...  "
      ]
     },
     "execution_count": 31,
     "metadata": {},
     "output_type": "execute_result"
    }
   ],
   "source": [
    " new_df[(new_df[\"rating\"] == \"TV-MA\") & (new_df[\"country\"] == \"India\")].head()"
   ]
  },
  {
   "cell_type": "code",
   "execution_count": 32,
   "id": "004afd97",
   "metadata": {},
   "outputs": [
    {
     "data": {
      "image/png": "[encoded data removed]",
      "text/plain": [
       "<Figure size 1000x1000 with 1 Axes>"
      ]
     },
     "metadata": {},
     "output_type": "display_data"
    }
   ],
   "source": [
    "rating_counts = df['rating'].value_counts()\n",
    "plt.figure(figsize=(10, 10))\n",
    "colors = sns.color_palette('pastel')\n",
    "plt.pie(rating_counts, labels=rating_counts.index, colors=colors, autopct='%1.1f%%')\n",
    "plt.title('Distribution of Ratings')\n",
    "plt.show()"
   ]
  },
  {
   "cell_type": "markdown",
   "id": "a36b0e72",
   "metadata": {},
   "source": [
    "### Which country has the highest no. of Movies"
   ]
  },
  {
   "cell_type": "code",
   "execution_count": 38,
   "id": "eb10e39b",
   "metadata": {},
   "outputs": [
    {
     "data": {
      "text/html": [
       "<div>\n",
       "<style scoped>\n",
       "    .dataframe tbody tr th:only-of-type {\n",
       "        vertical-align: middle;\n",
       "    }\n",
       "\n",
       "    .dataframe tbody tr th {\n",
       "        vertical-align: top;\n",
       "    }\n",
       "\n",
       "    .dataframe thead th {\n",
       "        text-align: right;\n",
       "    }\n",
       "</style>\n",
       "<table border=\"1\" class=\"dataframe\">\n",
       "  <thead>\n",
       "    <tr style=\"text-align: right;\">\n",
       "      <th></th>\n",
       "      <th>show_id</th>\n",
       "      <th>type</th>\n",
       "      <th>title</th>\n",
       "      <th>director</th>\n",
       "      <th>cast</th>\n",
       "      <th>country</th>\n",
       "      <th>date_added</th>\n",
       "      <th>release_year</th>\n",
       "      <th>rating</th>\n",
       "      <th>duration</th>\n",
       "      <th>listed_in</th>\n",
       "      <th>description</th>\n",
       "    </tr>\n",
       "  </thead>\n",
       "  <tbody>\n",
       "    <tr>\n",
       "      <th>7</th>\n",
       "      <td>s8</td>\n",
       "      <td>Movie</td>\n",
       "      <td>Sankofa</td>\n",
       "      <td>Haile Gerima</td>\n",
       "      <td>Kofi Ghanaba, Oyafunmike Ogunlano, Alexandra D...</td>\n",
       "      <td>United States, Ghana, Burkina Faso, United Kin...</td>\n",
       "      <td>September 24, 2021</td>\n",
       "      <td>1993</td>\n",
       "      <td>TV-MA</td>\n",
       "      <td>125 min</td>\n",
       "      <td>Dramas, Independent Movies, International Movies</td>\n",
       "      <td>On a photo shoot in Ghana, an American model s...</td>\n",
       "    </tr>\n",
       "    <tr>\n",
       "      <th>9</th>\n",
       "      <td>s10</td>\n",
       "      <td>Movie</td>\n",
       "      <td>The Starling</td>\n",
       "      <td>Theodore Melfi</td>\n",
       "      <td>Melissa McCarthy, Chris O'Dowd, Kevin Kline, T...</td>\n",
       "      <td>United States</td>\n",
       "      <td>September 24, 2021</td>\n",
       "      <td>2021</td>\n",
       "      <td>PG-13</td>\n",
       "      <td>104 min</td>\n",
       "      <td>Comedies, Dramas</td>\n",
       "      <td>A woman adjusting to life after a loss contend...</td>\n",
       "    </tr>\n",
       "    <tr>\n",
       "      <th>12</th>\n",
       "      <td>s13</td>\n",
       "      <td>Movie</td>\n",
       "      <td>Je Suis Karl</td>\n",
       "      <td>Christian Schwochow</td>\n",
       "      <td>Luna Wedler, Jannis Niewöhner, Milan Peschel, ...</td>\n",
       "      <td>Germany, Czech Republic</td>\n",
       "      <td>September 23, 2021</td>\n",
       "      <td>2021</td>\n",
       "      <td>TV-MA</td>\n",
       "      <td>127 min</td>\n",
       "      <td>Dramas, International Movies</td>\n",
       "      <td>After most of her family is murdered in a terr...</td>\n",
       "    </tr>\n",
       "    <tr>\n",
       "      <th>24</th>\n",
       "      <td>s25</td>\n",
       "      <td>Movie</td>\n",
       "      <td>Jeans</td>\n",
       "      <td>S. Shankar</td>\n",
       "      <td>Prashanth, Aishwarya Rai Bachchan, Sri Lakshmi...</td>\n",
       "      <td>India</td>\n",
       "      <td>September 21, 2021</td>\n",
       "      <td>1998</td>\n",
       "      <td>TV-14</td>\n",
       "      <td>166 min</td>\n",
       "      <td>Comedies, International Movies, Romantic Movies</td>\n",
       "      <td>When the father of the man she loves insists t...</td>\n",
       "    </tr>\n",
       "    <tr>\n",
       "      <th>27</th>\n",
       "      <td>s28</td>\n",
       "      <td>Movie</td>\n",
       "      <td>Grown Ups</td>\n",
       "      <td>Dennis Dugan</td>\n",
       "      <td>Adam Sandler, Kevin James, Chris Rock, David S...</td>\n",
       "      <td>United States</td>\n",
       "      <td>September 20, 2021</td>\n",
       "      <td>2010</td>\n",
       "      <td>PG-13</td>\n",
       "      <td>103 min</td>\n",
       "      <td>Comedies</td>\n",
       "      <td>Mourning the loss of their beloved junior high...</td>\n",
       "    </tr>\n",
       "  </tbody>\n",
       "</table>\n",
       "</div>"
      ],
      "text/plain": [
       "   show_id   type         title             director   \n",
       "7       s8  Movie       Sankofa         Haile Gerima  \\\n",
       "9      s10  Movie  The Starling       Theodore Melfi   \n",
       "12     s13  Movie  Je Suis Karl  Christian Schwochow   \n",
       "24     s25  Movie         Jeans           S. Shankar   \n",
       "27     s28  Movie     Grown Ups         Dennis Dugan   \n",
       "\n",
       "                                                 cast   \n",
       "7   Kofi Ghanaba, Oyafunmike Ogunlano, Alexandra D...  \\\n",
       "9   Melissa McCarthy, Chris O'Dowd, Kevin Kline, T...   \n",
       "12  Luna Wedler, Jannis Niewöhner, Milan Peschel, ...   \n",
       "24  Prashanth, Aishwarya Rai Bachchan, Sri Lakshmi...   \n",
       "27  Adam Sandler, Kevin James, Chris Rock, David S...   \n",
       "\n",
       "                                              country          date_added   \n",
       "7   United States, Ghana, Burkina Faso, United Kin...  September 24, 2021  \\\n",
       "9                                       United States  September 24, 2021   \n",
       "12                            Germany, Czech Republic  September 23, 2021   \n",
       "24                                              India  September 21, 2021   \n",
       "27                                      United States  September 20, 2021   \n",
       "\n",
       "    release_year rating duration   \n",
       "7           1993  TV-MA  125 min  \\\n",
       "9           2021  PG-13  104 min   \n",
       "12          2021  TV-MA  127 min   \n",
       "24          1998  TV-14  166 min   \n",
       "27          2010  PG-13  103 min   \n",
       "\n",
       "                                           listed_in   \n",
       "7   Dramas, Independent Movies, International Movies  \\\n",
       "9                                   Comedies, Dramas   \n",
       "12                      Dramas, International Movies   \n",
       "24   Comedies, International Movies, Romantic Movies   \n",
       "27                                          Comedies   \n",
       "\n",
       "                                          description  \n",
       "7   On a photo shoot in Ghana, an American model s...  \n",
       "9   A woman adjusting to life after a loss contend...  \n",
       "12  After most of her family is murdered in a terr...  \n",
       "24  When the father of the man she loves insists t...  \n",
       "27  Mourning the loss of their beloved junior high...  "
      ]
     },
     "execution_count": 38,
     "metadata": {},
     "output_type": "execute_result"
    }
   ],
   "source": [
    "country_with_highest_no_of_Movies = new_df[new_df[\"type\"] == \"Movie\"]\n",
    "country_with_highest_no_of_Movies.head()"
   ]
  },
  {
   "cell_type": "markdown",
   "id": "ed3c3b15",
   "metadata": {},
   "source": [
    "### Counting the Highest no of Movies Released in a particular Country "
   ]
  },
  {
   "cell_type": "code",
   "execution_count": 39,
   "id": "ed0275ba",
   "metadata": {},
   "outputs": [
    {
     "data": {
      "text/plain": [
       "country\n",
       "United States     1819\n",
       "India              868\n",
       "United Kingdom     164\n",
       "Canada             104\n",
       "Egypt               90\n",
       "Name: count, dtype: int64"
      ]
     },
     "execution_count": 39,
     "metadata": {},
     "output_type": "execute_result"
    }
   ],
   "source": [
    "country_with_highest_no_of_Movies.country.value_counts().head()"
   ]
  },
  {
   "cell_type": "markdown",
   "id": "5434851f",
   "metadata": {},
   "source": [
    "###  Visualizing the data of a Highest Movie releases in all Countries?"
   ]
  },
  {
   "cell_type": "code",
   "execution_count": 40,
   "id": "3364c58e",
   "metadata": {},
   "outputs": [
    {
     "data": {
      "text/plain": [
       "<Axes: ylabel='count'>"
      ]
     },
     "execution_count": 40,
     "metadata": {},
     "output_type": "execute_result"
    },
    {
     "data": {
      "image/png": "[encoded data removed]",
      "text/plain": [
       "<Figure size 1500x700 with 1 Axes>"
      ]
     },
     "metadata": {},
     "output_type": "display_data"
    }
   ],
   "source": [
    "plt.figure(figsize = (15,7))\n",
    "country_with_highest_no_of_Movies.country.value_counts().head().plot(kind = \"pie\")"
   ]
  },
  {
   "cell_type": "code",
   "execution_count": null,
   "id": "90372d17",
   "metadata": {},
   "outputs": [],
   "source": []
  }
 ],
 "metadata": {
  "kernelspec": {
   "display_name": "Python 3 (ipykernel)",
   "language": "python",
   "name": "python3"
  },
  "language_info": {
   "codemirror_mode": {
    "name": "ipython",
    "version": 3
   },
   "file_extension": ".py",
   "mimetype": "text/x-python",
   "name": "python",
   "nbconvert_exporter": "python",
   "pygments_lexer": "ipython3",
   "version": "3.11.2"
  }
 },
 "nbformat": 4,
 "nbformat_minor": 5
}
